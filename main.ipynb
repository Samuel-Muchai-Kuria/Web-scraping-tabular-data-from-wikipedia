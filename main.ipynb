{
 "cells": [
  {
   "cell_type": "markdown",
   "metadata": {},
   "source": [
    "Scraping tabular data from wikipedia + pandas"
   ]
  },
  {
   "cell_type": "code",
   "execution_count": 202,
   "metadata": {},
   "outputs": [],
   "source": [
    "from bs4 import BeautifulSoup\n",
    "import requests\n",
    "import pandas as pd"
   ]
  },
  {
   "cell_type": "code",
   "execution_count": 203,
   "metadata": {},
   "outputs": [],
   "source": [
    "url ='https://en.wikipedia.org/wiki/List_of_largest_companies_in_India'\n",
    "page = requests.get(url)\n",
    "# print(page)\n",
    "\n",
    "soup = BeautifulSoup(page.text, 'html')\n",
    "# print(soup)"
   ]
  },
  {
   "cell_type": "markdown",
   "metadata": {},
   "source": [
    "Table one ( Forbes list 2022)"
   ]
  },
  {
   "cell_type": "code",
   "execution_count": 204,
   "metadata": {},
   "outputs": [],
   "source": [
    "table1= soup.find_all('table', class_='wikitable sortable')[0]\n",
    "header= table1.find_all('th')\n",
    "titles = [title.text.strip() for title in header]\n",
    "# print(titles)"
   ]
  },
  {
   "cell_type": "code",
   "execution_count": 205,
   "metadata": {},
   "outputs": [],
   "source": [
    "data=pd.DataFrame(columns=titles)\n",
    "data.insert(loc=1, column='Rank Change', value='0' )\n",
    "data.insert(loc=3, column='Forbes rank change', value='0' )\n"
   ]
  },
  {
   "cell_type": "code",
   "execution_count": 206,
   "metadata": {},
   "outputs": [],
   "source": [
    "column_data= table1.find_all('tr')\n",
    "for row in column_data[1:]:\n",
    "    row_data=row.find_all('td')\n",
    "    row_data=[td.text.strip() for td in row_data]\n",
    "    length=len(data)\n",
    "    data.loc[length]=row_data\n",
    "# data"
   ]
  },
  {
   "cell_type": "markdown",
   "metadata": {},
   "source": [
    "Table two (2021 Fortunes list)"
   ]
  },
  {
   "cell_type": "code",
   "execution_count": 207,
   "metadata": {},
   "outputs": [],
   "source": [
    "table2=soup.findAll('table', class_='wikitable sortable')[1]\n",
    "header2= table2.find_all('th')\n",
    "titles2 = [title.text.strip() for title in header2]\n",
    "# print(titles)\n",
    "data2=pd.DataFrame(columns=titles2)\n"
   ]
  },
  {
   "cell_type": "code",
   "execution_count": 208,
   "metadata": {},
   "outputs": [],
   "source": [
    "column_data2= table2.find_all('tr')\n",
    "#print(column_data2)\n",
    "for row in column_data2[1:]:\n",
    "    row_data=row.find_all('td')\n",
    "    row_data=[td.text.strip() for td in row_data]\n",
    "    # print(row_data)\n",
    "    length=len(data2)\n",
    "    data2.loc[length]=row_data\n",
    "\n",
    "# fill the last column\n",
    "mask = (data2['State Controlled'].str.strip() == '')\n",
    "data2.loc[mask, 'State Controlled'] = 'No'\n",
    "\n"
   ]
  },
  {
   "cell_type": "code",
   "execution_count": 209,
   "metadata": {},
   "outputs": [],
   "source": [
    "# save it in CSV\n",
    "data.to_csv(r'C:\\Users\\Sammybravol\\OneDrive\\Desktop\\Projects\\web scraping tabular data from websites\\Forbes_list_2022_india.csv',index=False)\n",
    "data2.to_csv(r'C:\\Users\\Sammybravol\\OneDrive\\Desktop\\Projects\\web scraping tabular data from websites\\Fortune_list_2021_india.csv',index=False)"
   ]
  },
  {
   "cell_type": "code",
   "execution_count": null,
   "metadata": {},
   "outputs": [],
   "source": []
  }
 ],
 "metadata": {
  "kernelspec": {
   "display_name": "Python 3",
   "language": "python",
   "name": "python3"
  },
  "language_info": {
   "codemirror_mode": {
    "name": "ipython",
    "version": 3
   },
   "file_extension": ".py",
   "mimetype": "text/x-python",
   "name": "python",
   "nbconvert_exporter": "python",
   "pygments_lexer": "ipython3",
   "version": "3.11.1"
  },
  "orig_nbformat": 4
 },
 "nbformat": 4,
 "nbformat_minor": 2
}
